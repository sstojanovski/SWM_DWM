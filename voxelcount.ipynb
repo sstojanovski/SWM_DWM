{
 "cells": [
  {
   "cell_type": "code",
   "execution_count": 2,
   "metadata": {
    "collapsed": true
   },
   "outputs": [],
   "source": [
    "import numpy as np\n",
    "import nibabel as nib\n",
    "import seaborn as sns ## this is ggplot for python\n",
    "import os\n",
    "import glob"
   ]
  },
  {
   "cell_type": "code",
   "execution_count": 20,
   "metadata": {},
   "outputs": [],
   "source": [
    "\n",
    "DWM_nocovar='/projects/sstojanovski/dti_FA_SWM/THESIS_2018/TBSS_DWM/randomise/NO_COVAR/'\n",
    "SWM_nocovar='/projects/sstojanovski/dti_FA_SWM/THESIS_2018/TBSS_SWM/randomise/NO_COVAR/'\n",
    "\n",
    "DWM_age_sex_SES='/projects/sstojanovski/dti_FA_SWM/THESIS_2018/TBSS_DWM/randomise/age_sex_SES/'\n",
    "SWM_age_sex_SES='/projects/sstojanovski/dti_FA_SWM/THESIS_2018/TBSS_SWM/randomise/age_sex_SES/'\n",
    "\n",
    "## from skeletonise ... normalization value = 1.84633007818\n",
    "## DWM = 34919, SWM = 64472\n",
    "\n"
   ]
  },
  {
   "cell_type": "code",
   "execution_count": 43,
   "metadata": {},
   "outputs": [],
   "source": [
    "## DWM ##\n",
    "\n",
    "# NOCOVAR\n",
    "\n",
    "DWM_ncv_corrp_2 = nib.load(os.path.join(DWM_nocovar, 'TBI_control_nocovar_groupt_tfce_corrp_tstat2.nii.gz'))\n",
    "DWM_ncv_corrp_6 = nib.load(os.path.join(DWM_nocovar, 'TBI_control_nocovar_groupt_tfce_corrp_tstat6.nii.gz'))\n",
    "\n",
    "DWM_ncv_uncorrp_2 = nib.load(os.path.join(DWM_nocovar, 'TBI_control_nocovar_groupt_tfce_p_tstat2.nii.gz'))\n",
    "DWM_ncv_uncorrp_6 = nib.load(os.path.join(DWM_nocovar, 'TBI_control_nocovar_groupt_tfce_p_tstat6.nii.gz'))\n",
    "\n",
    "\n",
    "data_DWM_ncv_corrp_2 =  DWM_ncv_corrp_2.get_data()\n",
    "data_DWM_ncv_corrp_6 =  DWM_ncv_corrp_6.get_data()\n",
    "\n",
    "data_DWM_ncv_uncorrp_2 =  DWM_ncv_uncorrp_2.get_data()\n",
    "data_DWM_ncv_uncorrp_6 =  DWM_ncv_uncorrp_6.get_data()\n",
    "\n",
    "# age sex SES\n",
    "\n",
    "DWM_asSES_corrp_2 = nib.load(os.path.join(DWM_age_sex_SES, 'TBI_control_age_sex_SES_groupt_tfce_corrp_tstat2.nii.gz'))\n",
    "DWM_asSES_corrp_6 = nib.load(os.path.join(DWM_age_sex_SES, 'TBI_control_age_sex_SES_groupt_tfce_corrp_tstat6.nii.gz'))\n",
    "\n",
    "DWM_asSES_uncorrp_2 = nib.load(os.path.join(DWM_age_sex_SES, 'TBI_control_age_sex_SES_groupt_tfce_p_tstat2.nii.gz'))\n",
    "DWM_asSES_uncorrp_6 = nib.load(os.path.join(DWM_age_sex_SES, 'TBI_control_age_sex_SES_groupt_tfce_p_tstat6.nii.gz'))\n",
    "\n",
    "\n",
    "data_DWM_asSES_corrp_2 =  DWM_asSES_corrp_2.get_data()\n",
    "data_DWM_asSES_corrp_6 =  DWM_asSES_corrp_6.get_data()\n",
    "\n",
    "data_DWM_asSES_uncorrp_2 =  DWM_asSES_uncorrp_2.get_data()\n",
    "data_DWM_asSES_uncorrp_6 =  DWM_asSES_uncorrp_6.get_data()\n",
    "\n"
   ]
  },
  {
   "cell_type": "code",
   "execution_count": 50,
   "metadata": {
    "collapsed": true
   },
   "outputs": [],
   "source": [
    "## SWM ##\n",
    "\n",
    "# NOCOVAR\n",
    "\n",
    "SWM_ncv_corrp_2 = nib.load(os.path.join(SWM_nocovar, 'TBI_control_nocovar_groupt_tfce_corrp_tstat2.nii.gz'))\n",
    "SWM_ncv_corrp_6 = nib.load(os.path.join(SWM_nocovar, 'TBI_control_nocovar_groupt_tfce_corrp_tstat6.nii.gz'))\n",
    "\n",
    "SWM_ncv_uncorrp_2 = nib.load(os.path.join(SWM_nocovar, 'TBI_control_nocovar_groupt_tfce_p_tstat2.nii.gz'))\n",
    "SWM_ncv_uncorrp_6 = nib.load(os.path.join(SWM_nocovar, 'TBI_control_nocovar_groupt_tfce_p_tstat6.nii.gz'))\n",
    "\n",
    "\n",
    "data_SWM_ncv_corrp_2 =  SWM_ncv_corrp_2.get_data()\n",
    "data_SWM_ncv_corrp_6 =  SWM_ncv_corrp_6.get_data()\n",
    "\n",
    "data_SWM_ncv_uncorrp_2 =  SWM_ncv_uncorrp_2.get_data()\n",
    "data_SWM_ncv_uncorrp_6 =  SWM_ncv_uncorrp_6.get_data()\n",
    "\n",
    "# age sex SES\n",
    "\n",
    "SWM_asSES_corrp_2 = nib.load(os.path.join(SWM_age_sex_SES, 'TBI_control_age_sex_SES_groupt_tfce_corrp_tstat2.nii.gz'))\n",
    "SWM_asSES_corrp_6 = nib.load(os.path.join(SWM_age_sex_SES, 'TBI_control_age_sex_SES_groupt_tfce_corrp_tstat6.nii.gz'))\n",
    "\n",
    "SWM_asSES_uncorrp_2 = nib.load(os.path.join(SWM_age_sex_SES, 'TBI_control_age_sex_SES_groupt_tfce_p_tstat2.nii.gz'))\n",
    "SWM_asSES_uncorrp_6 = nib.load(os.path.join(SWM_age_sex_SES, 'TBI_control_age_sex_SES_groupt_tfce_p_tstat6.nii.gz'))\n",
    "\n",
    "\n",
    "data_SWM_asSES_corrp_2 =  SWM_asSES_corrp_2.get_data()\n",
    "data_SWM_asSES_corrp_6 =  SWM_asSES_corrp_6.get_data()\n",
    "\n",
    "data_SWM_asSES_uncorrp_2 =  SWM_asSES_uncorrp_2.get_data()\n",
    "data_SWM_asSES_uncorrp_6 =  SWM_asSES_uncorrp_6.get_data()\n"
   ]
  },
  {
   "cell_type": "code",
   "execution_count": 65,
   "metadata": {
    "collapsed": true
   },
   "outputs": [],
   "source": [
    "ncv=(data_SWM_ncv_corrp_2, data_SWM_ncv_corrp_6, data_SWM_ncv_uncorrp_2, data_SWM_ncv_uncorrp_6,data_DWM_ncv_corrp_2, data_DWM_ncv_corrp_6, data_DWM_ncv_uncorrp_2, data_DWM_ncv_uncorrp_6)\n",
    "\n",
    "asSES=(data_SWM_asSES_corrp_2, data_SWM_asSES_corrp_6, data_SWM_asSES_uncorrp_2, data_SWM_asSES_uncorrp_6,data_DWM_asSES_corrp_2, data_DWM_asSES_corrp_6, data_DWM_asSES_uncorrp_2, data_DWM_asSES_uncorrp_6)\n"
   ]
  },
  {
   "cell_type": "code",
   "execution_count": 74,
   "metadata": {},
   "outputs": [
    {
     "name": "stdout",
     "output_type": "stream",
     "text": [
      "13449, 7558, 0,\n",
      "41, 0, 0,\n",
      "33953, 27443, 0,\n",
      "27949, 14914, 0,\n",
      "16153, 9670, 0,\n",
      "338, 0, 0,\n",
      "21747, 18547, 0,\n",
      "12241, 4787, 0,\n",
      "13064, 5693, 0,\n",
      "56, 0, 0,\n",
      "33996, 28334, 0,\n",
      "26228, 11993, 0,\n",
      "16664, 11172, 0,\n",
      "154, 0, 0,\n",
      "22294, 19190, 0,\n",
      "11898, 4691, 0,\n",
      "13253.017578125 7512.3359375 0.0\n",
      "39.197998046875 0.0 0.0\n",
      "33740.23828125 27381.1171875 0.0\n",
      "27583.49609375 14845.689453125 0.0\n",
      "15944.46875 9619.5341796875 0.0\n",
      "323.9309997558594 0.0 0.0\n",
      "21626.9453125 18504.140625 0.0\n",
      "12030.435546875 4759.08984375 0.0\n",
      "12850.8193359375 5660.67236328125 0.0\n",
      "53.84099578857422 0.0 0.0\n",
      "33798.58203125 28269.21875 0.0\n",
      "25853.8515625 11935.6259765625 0.0\n",
      "16456.33203125 11115.35546875 0.0\n",
      "146.593994140625 0.0 0.0\n",
      "22182.078125 19150.796875 0.0\n",
      "11698.75390625 4664.8642578125 0.0\n"
     ]
    }
   ],
   "source": [
    "## i need to just have a csv of the same number variables as columns\n",
    "# This file=open(\"temp.csv\", \"a\")  is equivalent to with open(\"temp.csv\", \"a\") as file:\n",
    "file=open(\"NoCovariates_voxelcount.csv\", \"a\")\n",
    "sonjas_list_of_vars = []\n",
    "for i in ncv:\n",
    "    temp = \"{} {} {}\".format(np.where(i[:,:,:]>0.95)[0].shape, np.where(i[:,:,:]>0.99)[0].shape, np.where(i[:,:,:]>0.999)[0].shape)\n",
    "    temp_clean = str(temp).replace(\"(\", \"\").replace(\",)\", \"\".replace(\"\",\",\"))\n",
    "    print(temp_clean)\n",
    "    file.write(temp_clean)\n",
    "    \n",
    "file.close()\n",
    "    \n",
    "file=open(\"age_sex_SES_voxelcount.csv\", \"a\")\n",
    "sonjas_list_of_vars = []\n",
    "for i in asSES:\n",
    "    temp = \"{} {} {}\".format(np.where(i[:,:,:]>0.95)[0].shape, np.where(i[:,:,:]>0.99)[0].shape, np.where(i[:,:,:]>0.999)[0].shape)\n",
    "    temp_clean = str(temp).replace(\"(\", \"\").replace(\",)\", \"\".replace(\"\",\",\"))\n",
    "    print(temp_clean)\n",
    "    file.write(temp_clean)\n",
    "    \n",
    "file.close()\n",
    "\n",
    "file=open(\"NoCovariates_sum.csv\", \"a\")\n",
    "sonjas_list_of_vars = []\n",
    "for i in ncv:\n",
    "    temp = \"{} {} {}\".format(np.sum(i[np.where(i[:,:,:]>0.95)]), np.sum(i[np.where(i[:,:,:]>0.99)]),np.sum(i[np.where(i[:,:,:]>0.999)]))\n",
    "    temp_clean = str(temp).replace(\"(\", \"\").replace(\",)\", \"\".replace(\"\",\",\"))\n",
    "    print(temp_clean)\n",
    "    file.write(temp_clean)\n",
    "    \n",
    "file.close()\n",
    "    \n",
    "file=open(\"age_sex_SES_sum.csv\", \"a\")\n",
    "sonjas_list_of_vars = []\n",
    "for i in asSES:\n",
    "    temp = \"{} {} {}\".format(np.sum(i[np.where(i[:,:,:]>0.95)]), np.sum(i[np.where(i[:,:,:]>0.99)]),np.sum(i[np.where(i[:,:,:]>0.999)]))\n",
    "    temp_clean = str(temp).replace(\"(\", \"\").replace(\",)\", \"\".replace(\"\",\",\"))\n",
    "    print(temp_clean)\n",
    "    file.write(temp_clean)\n",
    "    \n",
    "file.close()"
   ]
  },
  {
   "cell_type": "code",
   "execution_count": null,
   "metadata": {
    "collapsed": true
   },
   "outputs": [],
   "source": []
  },
  {
   "cell_type": "code",
   "execution_count": null,
   "metadata": {
    "collapsed": true
   },
   "outputs": [],
   "source": []
  },
  {
   "cell_type": "code",
   "execution_count": 33,
   "metadata": {
    "collapsed": true,
    "scrolled": true
   },
   "outputs": [],
   "source": [
    "file=open(\"temp.csv\", \"a\")\n",
    "sonjas_list_of_vars = []\n",
    "for subject in range (DWM_subjects):\n",
    "    DWMneg_sum = np.sum(DWM_zneg3[np.where(DWM_zneg3[:,:,:,subject]<0)])\n",
    "    DWMneg_count = np.where(DWM_zneg3[:,:,:,subject]<0)[0].shape\n",
    "    \n",
    "    DWMpos_sum = np.sum(DWM_zpos3[np.where(DWM_zpos3[:,:,:,subject]>0)])\n",
    "    DWMpos_count = np.where(DWM_zpos3[:,:,:,subject]>0)[0].shape\n",
    "    \n",
    "    SWMneg_sum = np.sum(SWM_zneg3[np.where(SWM_zneg3[:,:,:,subject]<0)])\n",
    "    SWMneg_count = np.where(SWM_zneg3[:,:,:,subject]<0)[0].shape\n",
    "    \n",
    "    SWMpos_sum = np.sum(SWM_zpos3[np.where(SWM_zpos3[:,:,:,subject]>0)])\n",
    "    SWMpos_count = np.where(SWM_zpos3[:,:,:,subject]>0)[0].shape\n",
    "    \n",
    "    sonjas_list_of_vars = \"{} {} {} {} {} {} {} {}\".format(DWMneg_sum, DWMneg_count, DWMpos_sum, DWMpos_count, SWMneg_sum, SWMneg_count, SWMpos_sum, SWMpos_count) \n",
    "    sonjas_list_of_vars_clean = str(sonjas_list_of_vars).replace(\"(\", \"\").replace(\",)\", \"\".replace(\"\",\",\"))\n",
    "    \n",
    "\n",
    "    file.write(sonjas_list_of_vars_clean + \"\\n\")\n",
    "\n",
    "    \n",
    "file.close()\n"
   ]
  },
  {
   "cell_type": "code",
   "execution_count": null,
   "metadata": {
    "collapsed": true
   },
   "outputs": [],
   "source": []
  }
 ],
 "metadata": {
  "kernelspec": {
   "display_name": "Python 3",
   "language": "python",
   "name": "python3"
  },
  "language_info": {
   "codemirror_mode": {
    "name": "ipython",
    "version": 3
   },
   "file_extension": ".py",
   "mimetype": "text/x-python",
   "name": "python",
   "nbconvert_exporter": "python",
   "pygments_lexer": "ipython3",
   "version": "3.6.1"
  }
 },
 "nbformat": 4,
 "nbformat_minor": 2
}
